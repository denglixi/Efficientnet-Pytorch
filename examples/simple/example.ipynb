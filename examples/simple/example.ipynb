{
 "cells": [
  {
   "cell_type": "markdown",
   "metadata": {},
   "source": [
    "## Example\n",
    "\n",
    "In this simple example, we load an image, pre-process it, and classify it with a pretrained EfficientNet."
   ]
  },
  {
   "cell_type": "code",
   "execution_count": null,
   "metadata": {},
   "outputs": [],
   "source": [
    "import json\n",
    "from PIL import Image\n",
    "\n",
    "import torch\n",
    "from torchvision import transforms\n",
    "\n",
    "from efficientnet_pytorch import EfficientNet"
   ]
  },
  {
   "cell_type": "code",
   "execution_count": null,
   "metadata": {},
   "outputs": [],
   "source": [
    "model_name = 'efficientnet-b4'\n",
    "image_size = EfficientNet.get_image_size(model_name) # 224"
   ]
  },
  {
   "cell_type": "code",
   "execution_count": null,
   "metadata": {},
   "outputs": [],
   "source": [
    "# Open image\n",
    "img = Image.open('img.jpg')\n",
    "img"
   ]
  },
  {
   "cell_type": "code",
   "execution_count": null,
   "metadata": {
    "scrolled": true
   },
   "outputs": [],
   "source": [
    "# Preprocess image\n",
    "tfms = transforms.Compose([transforms.Resize(image_size), transforms.CenterCrop(image_size), \n",
    "                           transforms.ToTensor(),\n",
    "                           transforms.Normalize([0.485, 0.456, 0.406], [0.229, 0.224, 0.225]),])\n",
    "img = tfms(img).unsqueeze(0)"
   ]
  },
  {
   "cell_type": "code",
   "execution_count": null,
   "metadata": {},
   "outputs": [],
   "source": [
    "# Load class names\n",
    "labels_map = json.load(open('labels_map.txt'))\n",
    "labels_map = [labels_map[str(i)] for i in range(1000)]"
   ]
  },
  {
   "cell_type": "code",
   "execution_count": 12,
   "metadata": {
    "scrolled": true
   },
   "outputs": [
    {
     "name": "stdout",
     "output_type": "stream",
     "text": [
      "Loaded pretrained weights for efficientnet-b4\n",
      "-----\n",
      "giant panda, panda, panda bear, coon bear, Ailuropoda melanoleuca           (71.50%)\n",
      "lesser panda, red panda, panda, bear cat, cat bear, Ailurus fulgens         (1.02%)\n",
      "brown bear, bruin, Ursus arctos                                             (0.40%)\n",
      "ice bear, polar bear, Ursus Maritimus, Thalarctos maritimus                 (0.38%)\n",
      "American black bear, black bear, Ursus americanus, Euarctos americanus      (0.36%)\n"
     ]
    }
   ],
   "source": [
    "# Classify with EfficientNet\n",
    "model = EfficientNet.from_pretrained(model_name,'../../../work/efficientnet-b4-6ed6700e.pth',advprop=True)\n",
    "model.eval()\n",
    "with torch.no_grad():\n",
    "    logits = model(img)\n",
    "preds = torch.topk(logits, k=5).indices.squeeze(0).tolist()\n",
    "\n",
    "print('-----')\n",
    "for idx in preds:\n",
    "    label = labels_map[idx]\n",
    "    prob = torch.softmax(logits, dim=1)[0, idx].item()\n",
    "    print('{:<75} ({:.2f}%)'.format(label, prob*100))"
   ]
  }
 ],
 "metadata": {
  "kernelspec": {
   "display_name": "Python3 (PySpark)",
   "language": "python",
   "name": "python3"
  },
  "language_info": {
   "codemirror_mode": {
    "name": "ipython",
    "version": 3
   },
   "file_extension": ".py",
   "mimetype": "text/x-python",
   "name": "python",
   "nbconvert_exporter": "python",
   "pygments_lexer": "ipython3",
   "version": "3.6.12"
  }
 },
 "nbformat": 4,
 "nbformat_minor": 2
}
